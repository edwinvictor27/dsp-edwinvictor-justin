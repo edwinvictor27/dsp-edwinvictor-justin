{
 "cells": [
  {
   "cell_type": "code",
   "execution_count": 1,
   "id": "07d3f71e-3679-46f4-8627-f0ddf2c11205",
   "metadata": {},
   "outputs": [],
   "source": [
    "import sys\n",
    "import os\n",
    "import joblib\n",
    "\n",
    "parent_dir = os.path.abspath(os.path.join(os.getcwd(), '..'))\n",
    "sys.path.append(parent_dir)"
   ]
  },
  {
   "cell_type": "code",
   "execution_count": 2,
   "id": "1aef4b26-ee3d-486a-abaf-26305e6e3bf1",
   "metadata": {},
   "outputs": [],
   "source": [
    "import pandas as pd\n",
    "from house_prices.preprocess import load_dataset\n",
    "from house_prices.preprocess import select_features\n",
    "from house_prices.preprocess import split_dataset\n",
    "from house_prices.preprocess import encode_categorical_features\n",
    "from house_prices.preprocess import scale_continuous_features\n",
    "from house_prices.preprocess import concatenate_features\n",
    "from house_prices.train import build_model\n",
    "from house_prices.train import process_testing_set\n",
    "from house_prices.train import evaluate_model\n",
    "from house_prices.inference import load_models\n",
    "from house_prices.inference import preprocess_data_and_predict\n"
   ]
  },
  {
   "cell_type": "markdown",
   "id": "227b3365-f301-4054-a257-ecb0241192ae",
   "metadata": {},
   "source": [
    "# **Model building**"
   ]
  },
  {
   "cell_type": "code",
   "execution_count": 3,
   "id": "a5a17ec6-844c-481d-b79d-cda8934cd9a2",
   "metadata": {},
   "outputs": [
    {
     "name": "stdout",
     "output_type": "stream",
     "text": [
      "Dataset loaded from C:/Users/edwin victor/git repositories/dsp-edwinvictor-justin/data/train.csv with shape (1460, 81)\n"
     ]
    }
   ],
   "source": [
    "# loading_the_dataset \n",
    "\n",
    "training_data_df = r'C:/Users/edwin victor/git repositories/dsp-edwinvictor-justin/data/train.csv'\n",
    "\n",
    "training_dataset = load_dataset(training_data_df)"
   ]
  },
  {
   "cell_type": "code",
   "execution_count": 4,
   "id": "ec1eea77-a951-4654-bf6b-5c4651ff9fe5",
   "metadata": {},
   "outputs": [],
   "source": [
    "# Selecting_the_required features  \n",
    "\n",
    "selected_features = ['LotArea', 'GrLivArea', 'Neighborhood', 'HouseStyle']\n",
    "target_feature = ['SalePrice']\n",
    "\n",
    "X, y = select_features(training_dataset, selected_features, target_feature)"
   ]
  },
  {
   "cell_type": "code",
   "execution_count": 5,
   "id": "221556b1-1519-4661-adbd-69dafebb5558",
   "metadata": {},
   "outputs": [],
   "source": [
    "# Splitting_the_dataset\n",
    "\n",
    "X_train, X_test, y_train, y_test = split_dataset(training_dataset, target_feature)"
   ]
  },
  {
   "cell_type": "code",
   "execution_count": 6,
   "id": "0ebdd587-6fbe-4fd9-95a4-f3e2164be062",
   "metadata": {},
   "outputs": [],
   "source": [
    "# Encoding_the_categorical_features_for_training_split\n",
    "\n",
    "categorical_features = ['Neighborhood', 'HouseStyle']\n",
    "encoded_df, encoder = encode_categorical_features(X_train, categorical_features)"
   ]
  },
  {
   "cell_type": "code",
   "execution_count": 7,
   "id": "f52bc079-2fa5-472b-898a-6e7058202cf4",
   "metadata": {},
   "outputs": [],
   "source": [
    "# Scaling_continuos_features\n",
    "\n",
    "continuos_features = ['LotArea', 'GrLivArea']\n",
    "scaled_df, scaler = scale_continuous_features(X_train, continuos_features)"
   ]
  },
  {
   "cell_type": "code",
   "execution_count": 8,
   "id": "80de77db-1815-49b5-87b3-d1063040c478",
   "metadata": {},
   "outputs": [],
   "source": [
    "# Concatenating_the_scaled_and_encoded features\n",
    "\n",
    "combined_features_df = concatenate_features(scaled_df, encoded_df)"
   ]
  },
  {
   "cell_type": "code",
   "execution_count": 9,
   "id": "24578786-4fce-43db-836b-21cc21702ee1",
   "metadata": {},
   "outputs": [],
   "source": [
    "# Building_model \n",
    "\n",
    "model_path = r\"C:\\Users\\edwin victor\\git repositories\\dsp-edwinvictor-justin\\models\\model.joblib\"\n",
    "scaler_path = r\"C:\\Users\\edwin victor\\git repositories\\dsp-edwinvictor-justin\\models\\scaler.joblib\"\n",
    "encoder_path = r\"C:\\Users\\edwin victor\\git repositories\\dsp-edwinvictor-justin\\models\\encoder.joblib\"\n",
    "model = build_model(combined_features_df, y_train, model_path, scaler_path, encoder_path, scaler, encoder)"
   ]
  },
  {
   "cell_type": "code",
   "execution_count": 10,
   "id": "54be7d5a-68d1-4b58-a2f8-f8992db550a8",
   "metadata": {},
   "outputs": [],
   "source": [
    "# Testing_the_model on testing set\n",
    "\n",
    "processed_test_df,y_pred = process_testing_set(X_test, categorical_features, continuos_features, encoder_path, scaler_path, model)"
   ]
  },
  {
   "cell_type": "code",
   "execution_count": 11,
   "id": "07aee43a-80d0-4eda-b0de-1a41f9aab0c9",
   "metadata": {},
   "outputs": [
    {
     "name": "stdout",
     "output_type": "stream",
     "text": [
      "{'Root Mean Squared Error out of': '0.19120286564820066'}\n"
     ]
    }
   ],
   "source": [
    "# Evaluating_the_model \n",
    "\n",
    "result = evaluate_model(y_test,y_pred)\n",
    "print(result)"
   ]
  },
  {
   "cell_type": "markdown",
   "id": "b170ab17-c82e-4ec0-96d5-d4d686f3a95f",
   "metadata": {},
   "source": [
    "# **Model Inference**"
   ]
  },
  {
   "cell_type": "code",
   "execution_count": 12,
   "id": "cf34a029-39ad-4a73-b372-96e0f72c5fc2",
   "metadata": {},
   "outputs": [],
   "source": [
    "# loading_the_trained_model\n",
    "\n",
    "model, scaler, encoder = load_models(model_path, scaler_path, encoder_path)"
   ]
  },
  {
   "cell_type": "code",
   "execution_count": 13,
   "id": "f7092fd7-512f-4dd0-a682-b27094380286",
   "metadata": {},
   "outputs": [
    {
     "name": "stdout",
     "output_type": "stream",
     "text": [
      "      PredictedPrice\n",
      "0      111539.653234\n",
      "1      153677.465987\n",
      "2      185488.247549\n",
      "3      181572.868723\n",
      "4      261066.782849\n",
      "...              ...\n",
      "1454    84070.849086\n",
      "1455    84054.017692\n",
      "1456   157965.977841\n",
      "1457   144389.605446\n",
      "1458   197115.001564\n",
      "\n",
      "[1459 rows x 1 columns]\n"
     ]
    }
   ],
   "source": [
    "# making_predictions\n",
    "\n",
    "Test_dataset = r\"C:/Users/edwin victor/git repositories/dsp-edwinvictor-justin/data/test.csv\"\n",
    "Testing_df = pd.read_csv(Test_dataset)\n",
    "predict_house_price = preprocess_data_and_predict(Testing_df, scaler, encoder, model ,continuos_features, categorical_features)\n",
    "print(predict_house_price)"
   ]
  }
 ],
 "metadata": {
  "kernelspec": {
   "display_name": "Python 3 (ipykernel)",
   "language": "python",
   "name": "python3"
  },
  "language_info": {
   "codemirror_mode": {
    "name": "ipython",
    "version": 3
   },
   "file_extension": ".py",
   "mimetype": "text/x-python",
   "name": "python",
   "nbconvert_exporter": "python",
   "pygments_lexer": "ipython3",
   "version": "3.9.19"
  }
 },
 "nbformat": 4,
 "nbformat_minor": 5
}
