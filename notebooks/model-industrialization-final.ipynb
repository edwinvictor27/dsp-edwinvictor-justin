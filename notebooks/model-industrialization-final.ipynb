{
 "cells": [
  {
   "cell_type": "code",
   "execution_count": 2,
   "id": "df25c437-d8e3-447b-ace9-ab000450a6d9",
   "metadata": {},
   "outputs": [],
   "source": [
    "import sys\n",
    "import os\n",
    "\n",
    "parent_dir = os.path.abspath(os.path.join(os.getcwd(), '..'))\n",
    "sys.path.append(parent_dir)\n",
    "\n"
   ]
  },
  {
   "cell_type": "markdown",
   "id": "fcd4539a-29e8-4758-bcfb-deab14e9816f",
   "metadata": {},
   "source": [
    "# **Model building**"
   ]
  },
  {
   "cell_type": "code",
   "execution_count": 3,
   "id": "135f3393-edb7-4fb9-8560-0e7501227f62",
   "metadata": {},
   "outputs": [
    {
     "name": "stdout",
     "output_type": "stream",
     "text": [
      "{'Root Mean Squared Error out of': '0.19357831076666'}\n"
     ]
    }
   ],
   "source": [
    "import pandas as pd\n",
    "from house_prices.train import build_model\n",
    "\n",
    "training_data_df = pd.read_csv(r\"C:/Users/edwin victor/git repositories/dsp-edwinvictor-justin/data/train.csv\")\n",
    "model_performance_dict = build_model(training_data_df)\n",
    "print(model_performance_dict)"
   ]
  },
  {
   "cell_type": "markdown",
   "id": "3673e612-ec11-450e-b4b2-c73f3d555c0c",
   "metadata": {},
   "source": [
    "# **Model Inference**"
   ]
  },
  {
   "cell_type": "code",
   "execution_count": 5,
   "id": "f6844faa-75b2-45ee-acf2-3ea1eedd36c0",
   "metadata": {},
   "outputs": [
    {
     "data": {
      "text/plain": [
       "array([108263.36369508, 152556.57524383, 185285.93541467, ...,\n",
       "       157936.73796874, 141068.10794168, 197121.11367985])"
      ]
     },
     "execution_count": 5,
     "metadata": {},
     "output_type": "execute_result"
    }
   ],
   "source": [
    "import pandas as pd\n",
    "from house_prices.inference import make_predictions\n",
    "\n",
    "user_data_df = pd.read_csv(r\"C:/Users/edwin victor/git repositories/dsp-edwinvictor-justin/data/test.csv\")\n",
    "predictions = make_predictions(user_data_df)\n",
    "predictions"
   ]
  },
  {
   "cell_type": "code",
   "execution_count": null,
   "id": "c4dd9442-4064-4ece-9187-7015c684da65",
   "metadata": {},
   "outputs": [],
   "source": []
  }
 ],
 "metadata": {
  "kernelspec": {
   "display_name": "Python 3 (ipykernel)",
   "language": "python",
   "name": "python3"
  },
  "language_info": {
   "codemirror_mode": {
    "name": "ipython",
    "version": 3
   },
   "file_extension": ".py",
   "mimetype": "text/x-python",
   "name": "python",
   "nbconvert_exporter": "python",
   "pygments_lexer": "ipython3",
   "version": "3.9.19"
  }
 },
 "nbformat": 4,
 "nbformat_minor": 5
}
