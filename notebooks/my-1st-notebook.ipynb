{
 "cells": [
  {
   "cell_type": "code",
   "execution_count": 1,
   "id": "426d2e6e-efb7-4587-b2db-e114385cea2a",
   "metadata": {},
   "outputs": [],
   "source": [
    "import numpy as np\n",
    "from IPython.display import display \n"
   ]
  },
  {
   "cell_type": "code",
   "execution_count": 2,
   "id": "ee018b72-ded0-4831-83fa-953e967bc321",
   "metadata": {},
   "outputs": [
    {
     "data": {
      "text/plain": [
       "array([[30, 36,  5],\n",
       "       [37, 17, 48],\n",
       "       [11, 22, 15],\n",
       "       [24, 20, 34],\n",
       "       [38, 23, 15],\n",
       "       [39, 40, 32],\n",
       "       [37,  1, 39],\n",
       "       [10, 42, 18],\n",
       "       [42, 22,  3],\n",
       "       [ 8, 44, 31]], dtype=int32)"
      ]
     },
     "metadata": {},
     "output_type": "display_data"
    }
   ],
   "source": [
    "my_array = np.random.randint(1,50, size=(10,3))\n",
    "display(my_array)"
   ]
  },
  {
   "cell_type": "code",
   "execution_count": null,
   "id": "84201d16-393a-45e0-9a0c-14dc44d78287",
   "metadata": {},
   "outputs": [],
   "source": []
  }
 ],
 "metadata": {
  "kernelspec": {
   "display_name": "Python 3 (ipykernel)",
   "language": "python",
   "name": "python3"
  },
  "language_info": {
   "codemirror_mode": {
    "name": "ipython",
    "version": 3
   },
   "file_extension": ".py",
   "mimetype": "text/x-python",
   "name": "python",
   "nbconvert_exporter": "python",
   "pygments_lexer": "ipython3",
   "version": "3.9.0"
  }
 },
 "nbformat": 4,
 "nbformat_minor": 5
}
