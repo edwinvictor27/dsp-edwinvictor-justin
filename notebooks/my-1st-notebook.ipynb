{
 "cells": [
  {
   "cell_type": "code",
   "execution_count": 4,
   "id": "2fd89f1a-2eba-4ae0-863a-61e86dfa986c",
   "metadata": {},
   "outputs": [
    {
     "name": "stdout",
     "output_type": "stream",
     "text": [
      "Note: you may need to restart the kernel to use updated packages.\n"
     ]
    },
    {
     "name": "stderr",
     "output_type": "stream",
     "text": [
      "\n",
      "Usage:   \n",
      "  D:\\miniconda\\miniconda\\envs\\ml\\python.exe -m pip <command> [options]\n",
      "\n",
      "no such option: --install\n"
     ]
    }
   ],
   "source": [
    "pip --install numpy"
   ]
  },
  {
   "cell_type": "code",
   "execution_count": 2,
   "id": "a1c9e098-6ccd-4f53-9941-c76f6f32436e",
   "metadata": {},
   "outputs": [],
   "source": [
    " import numpy as np\n",
    " from IPython.display import display \n"
   ]
  },
  {
   "cell_type": "code",
   "execution_count": 4,
   "id": "5ce2c994-6bc7-4406-944c-3c2053023fb5",
   "metadata": {},
   "outputs": [
    {
     "data": {
      "text/plain": [
       "array([[44, 31, 27],\n",
       "       [30, 43, 44],\n",
       "       [32, 26, 29],\n",
       "       [25,  3, 12],\n",
       "       [39, 16, 43],\n",
       "       [14, 22, 11],\n",
       "       [10, 41, 40],\n",
       "       [43, 10, 18],\n",
       "       [23, 31,  6],\n",
       "       [45, 10, 37]], dtype=int32)"
      ]
     },
     "metadata": {},
     "output_type": "display_data"
    }
   ],
   "source": [
    "my_array = np.random.randint(1,50, size=(10,3))\n",
    "display(my_array)"
   ]
  },
  {
   "cell_type": "code",
   "execution_count": null,
   "id": "cabc874b-e127-4de1-804a-5a6c503a6699",
   "metadata": {},
   "outputs": [],
   "source": []
  }
 ],
 "metadata": {
  "kernelspec": {
   "display_name": "Python 3 (ipykernel)",
   "language": "python",
   "name": "python3"
  },
  "language_info": {
   "codemirror_mode": {
    "name": "ipython",
    "version": 3
   },
   "file_extension": ".py",
   "mimetype": "text/x-python",
   "name": "python",
   "nbconvert_exporter": "python",
   "pygments_lexer": "ipython3",
   "version": "3.9.19"
  }
 },
 "nbformat": 4,
 "nbformat_minor": 5
}
