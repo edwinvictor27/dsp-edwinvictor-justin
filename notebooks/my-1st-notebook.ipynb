{
 "cells": [
  {
   "cell_type": "code",
   "execution_count": 1,
   "id": "426d2e6e-efb7-4587-b2db-e114385cea2a",
   "metadata": {},
   "outputs": [],
   "source": [
    "import numpy as np\n",
    "from IPython.display import display \n"
   ]
  },
  {
   "cell_type": "code",
   "execution_count": 2,
   "id": "ee018b72-ded0-4831-83fa-953e967bc321",
   "metadata": {},
   "outputs": [
    {
     "data": {
      "text/plain": [
       "array([[36, 33, 10],\n",
       "       [13, 24, 27],\n",
       "       [17, 10, 43],\n",
       "       [ 9, 38, 13],\n",
       "       [37, 39, 40],\n",
       "       [ 4, 46, 22],\n",
       "       [ 9, 43, 26],\n",
       "       [29, 31,  6],\n",
       "       [25, 49, 47],\n",
       "       [ 3, 16, 24]], dtype=int32)"
      ]
     },
     "metadata": {},
     "output_type": "display_data"
    }
   ],
   "source": [
    "my_array = np.random.randint(1,50, size=(10,3))\n",
    "display(my_array)"
   ]
  },
  {
   "cell_type": "code",
   "execution_count": null,
   "id": "84201d16-393a-45e0-9a0c-14dc44d78287",
   "metadata": {},
   "outputs": [],
   "source": []
  }
 ],
 "metadata": {
  "kernelspec": {
   "display_name": "Python 3 (ipykernel)",
   "language": "python",
   "name": "python3"
  },
  "language_info": {
   "codemirror_mode": {
    "name": "ipython",
    "version": 3
   },
   "file_extension": ".py",
   "mimetype": "text/x-python",
   "name": "python",
   "nbconvert_exporter": "python",
   "pygments_lexer": "ipython3",
   "version": "3.9.19"
  }
 },
 "nbformat": 4,
 "nbformat_minor": 5
}
